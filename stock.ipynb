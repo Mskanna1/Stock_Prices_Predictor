{
 "cells": [
  {
   "cell_type": "code",
   "execution_count": null,
   "metadata": {},
   "outputs": [],
   "source": [
    "import numpy as np\n",
    "import pandas as pd\n",
    "import matplotlib.pyplot as plt\n",
    "import warnings\n",
    "from statsmodels.tsa.stattools import adfuller, acf, pacf\n",
    "from statsmodels.tsa.seasonal import seasonal_decompose\n",
    "from pmdarima import auto_arima\n",
    "from sklearn.metrics import mean_squared_error, mean_absolute_error\n"
   ]
  },
  {
   "cell_type": "code",
   "execution_count": null,
   "metadata": {},
   "outputs": [],
   "source": [
    "# Suppress warnings for clean output\n",
    "warnings.filterwarnings('ignore')\n"
   ]
  },
  {
   "cell_type": "code",
   "execution_count": null,
   "metadata": {},
   "outputs": [],
   "source": [
    "# Load the data\n",
    "df = pd.read_csv('Dataset/AAPL.csv', parse_dates=['Date'])\n",
    "df = df[['Date', 'Close']]\n"
   ]
  },
  {
   "cell_type": "code",
   "execution_count": null,
   "metadata": {},
   "outputs": [],
   "source": [
    "# Setting the Date as Index and sorting\n",
    "df.set_index('Date', inplace=True)\n",
    "df.sort_index(inplace=True)\n"
   ]
  },
  {
   "cell_type": "code",
   "execution_count": null,
   "metadata": {},
   "outputs": [],
   "source": [
    "# Fill missing values using forward fill method\n",
    "df['Close'].fillna(method='ffill', inplace=True)\n"
   ]
  },
  {
   "cell_type": "code",
   "execution_count": null,
   "metadata": {},
   "outputs": [],
   "source": [
    "# Plotting the time series\n",
    "plt.figure(figsize=(10, 6))\n",
    "plt.plot(df['Close'], label='Close Price')\n",
    "plt.title('Apple Stock Prices')\n",
    "plt.xlabel('Date')\n",
    "plt.ylabel('Close Price')\n",
    "plt.legend()\n",
    "plt.show()\n"
   ]
  },
  {
   "cell_type": "code",
   "execution_count": null,
   "metadata": {},
   "outputs": [],
   "source": [
    "# Checking for stationarity using the Dickey-Fuller test\n",
    "def test_stationarity(timeseries):\n",
    "    result = adfuller(timeseries)\n",
    "    print('ADF Statistic: %f' % result[0])\n",
    "    print('p-value: %f' % result[1])\n",
    "    print('Critical Values:')\n",
    "    for key, value in result[4].items():\n",
    "        print('\\t%s: %.3f' % (key, value))\n",
    "        \n",
    "    return result[1]\n"
   ]
  },
  {
   "cell_type": "code",
   "execution_count": null,
   "metadata": {},
   "outputs": [],
   "source": [
    "# Perform the Dickey-Fuller test\n",
    "p_value = test_stationarity(df['Close'])\n",
    "if p_value > 0.05:\n",
    "    print(\"Series is not stationary, differencing required.\")\n",
    "    df['Close_Diff'] = df['Close'].diff().dropna()\n",
    "    test_stationarity(df['Close_Diff'].dropna())\n",
    "else:\n",
    "    print(\"Series is stationary, no differencing required.\")\n",
    "    df['Close_Diff'] = df['Close']\n"
   ]
  },
  {
   "cell_type": "code",
   "execution_count": null,
   "metadata": {},
   "outputs": [],
   "source": [
    "# Decompose the series to observe trend, seasonality, and residuals\n",
    "decomposition = seasonal_decompose(df['Close'], model='multiplicative', period=30)\n",
    "trend = decomposition.trend\n",
    "seasonal = decomposition.seasonal\n",
    "residual = decomposition.resid\n",
    "\n",
    "plt.figure(figsize=(14, 7))\n",
    "plt.subplot(411)\n",
    "plt.plot(df['Close'], label='Original')\n",
    "plt.legend(loc='best')\n",
    "plt.subplot(412)\n",
    "plt.plot(trend, label='Trend')\n",
    "plt.legend(loc='best')\n",
    "plt.subplot(413)\n",
    "plt.plot(seasonal, label='Seasonality')\n",
    "plt.legend(loc='best')\n",
    "plt.subplot(414)\n",
    "plt.plot(residual, label='Residuals')\n",
    "plt.legend(loc='best')\n",
    "plt.tight_layout()\n",
    "plt.show()\n"
   ]
  },
  {
   "cell_type": "code",
   "execution_count": null,
   "metadata": {},
   "outputs": [],
   "source": [
    "# Auto ARIMA model fitting\n",
    "model = auto_arima(df['Close'], \n",
    "                   start_p=1, start_q=1,\n",
    "                   test='adf',  # Use ADF test to find optimal 'd'\n",
    "                   max_p=3, max_q=3, \n",
    "                   m=1,              # Frequency of series\n",
    "                   d=None,           # Let model determine 'd'\n",
    "                   seasonal=False,   # No Seasonality\n",
    "                   trace=True,       # Print status\n",
    "                   error_action='ignore',  \n",
    "                   suppress_warnings=True, \n",
    "                   stepwise=True)\n"
   ]
  },
  {
   "cell_type": "code",
   "execution_count": null,
   "metadata": {},
   "outputs": [],
   "source": [
    "# Print the summary of the model\n",
    "print(model.summary())\n"
   ]
  },
  {
   "cell_type": "code",
   "execution_count": null,
   "metadata": {},
   "outputs": [],
   "source": [
    "# Train the model\n",
    "train_size = int(len(df) * 0.8)\n",
    "train, test = df.iloc[:train_size], df.iloc[train_size:]\n"
   ]
  },
  {
   "cell_type": "code",
   "execution_count": null,
   "metadata": {},
   "outputs": [],
   "source": [
    "# Fit the model\n",
    "model.fit(train['Close'])\n"
   ]
  },
  {
   "cell_type": "code",
   "execution_count": null,
   "metadata": {},
   "outputs": [],
   "source": [
    "# Make predictions\n",
    "forecast, conf_int = model.predict(n_periods=len(test), return_conf_int=True)\n",
    "forecast_series = pd.Series(forecast, index=test.index)\n",
    "lower_series = pd.Series(conf_int[:, 0], index=test.index)\n",
    "upper_series = pd.Series(conf_int[:, 1], index=test.index)\n"
   ]
  },
  {
   "cell_type": "code",
   "execution_count": null,
   "metadata": {},
   "outputs": [],
   "source": [
    "# Plot the predictions\n",
    "plt.figure(figsize=(10, 6))\n",
    "plt.plot(train['Close'], label='Training Data')\n",
    "plt.plot(test['Close'], label='Test Data')\n",
    "plt.plot(forecast_series, label='Predicted Data')\n",
    "plt.fill_between(lower_series.index, lower_series, upper_series, color='k', alpha=.15)\n",
    "plt.title('Apple Stock Price Prediction')\n",
    "plt.xlabel('Date')\n",
    "plt.ylabel('Close Price')\n",
    "plt.legend()\n",
    "plt.show()\n"
   ]
  },
  {
   "cell_type": "code",
   "execution_count": null,
   "metadata": {},
   "outputs": [],
   "source": [
    "# Calculate error metrics\n",
    "mae = mean_absolute_error(test['Close'], forecast_series)\n",
    "rmse = np.sqrt(mean_squared_error(test['Close'], forecast_series))\n",
    "print(f'Mean Absolute Error: {mae}')\n",
    "print(f'Root Mean Squared Error: {rmse}')\n"
   ]
  },
  {
   "cell_type": "code",
   "execution_count": null,
   "metadata": {},
   "outputs": [],
   "source": [
    "# Forecasting future prices\n",
    "future_forecast, future_conf_int = model.predict(n_periods=30, return_conf_int=True)\n",
    "future_forecast_series = pd.Series(future_forecast, index=pd.date_range(start=test.index[-1] + pd.Timedelta(days=1), periods=30, freq='B'))\n",
    "lower_future_series = pd.Series(future_conf_int[:, 0], index=future_forecast_series.index)\n",
    "upper_future_series = pd.Series(future_conf_int[:, 1], index=future_forecast_series.index)\n"
   ]
  },
  {
   "cell_type": "code",
   "execution_count": null,
   "metadata": {},
   "outputs": [],
   "source": [
    "# Plot future predictions\n",
    "plt.figure(figsize=(10, 6))\n",
    "plt.plot(df['Close'], label='Historical Data')\n",
    "plt.plot(future_forecast_series, label='Future Forecast')\n",
    "plt.fill_between(lower_future_series.index, lower_future_series, upper_future_series, color='k', alpha=.15)\n",
    "plt.title('Apple Stock Price Future Forecast')\n",
    "plt.xlabel('Date')\n",
    "plt.ylabel('Close Price')\n",
    "plt.legend()\n",
    "plt.show()\n"
   ]
  }
 ],
 "metadata": {
  "language_info": {
   "name": "python"
  }
 },
 "nbformat": 4,
 "nbformat_minor": 2
}
